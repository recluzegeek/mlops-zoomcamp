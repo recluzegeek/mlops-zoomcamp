{
 "cells": [
  {
   "cell_type": "code",
   "execution_count": 2,
   "id": "4f83b10c",
   "metadata": {},
   "outputs": [
    {
     "name": "stdout",
     "output_type": "stream",
     "text": [
      "--2025-05-09 02:01:03--  https://d37ci6vzurychx.cloudfront.net/trip-data/yellow_tripdata_2023-02.parquet\n",
      "Resolving d37ci6vzurychx.cloudfront.net (d37ci6vzurychx.cloudfront.net)... 18.155.128.46, 18.155.128.6, 18.155.128.187, ...\n",
      "Connecting to d37ci6vzurychx.cloudfront.net (d37ci6vzurychx.cloudfront.net)|18.155.128.46|:443... connected.\n",
      "HTTP request sent, awaiting response... 200 OK\n",
      "Length: 47748012 (46M) [application/x-www-form-urlencoded]\n",
      "Saving to: ‘yellow_tripdata_2023-02.parquet’\n",
      "\n",
      "yellow_tripdata_202 100%[===================>]  45.54M  6.03MB/s    in 8.3s    \n",
      "\n",
      "2025-05-09 02:01:12 (5.46 MB/s) - ‘yellow_tripdata_2023-02.parquet’ saved [47748012/47748012]\n",
      "\n"
     ]
    }
   ],
   "source": [
    "!wget https://d37ci6vzurychx.cloudfront.net/trip-data/yellow_tripdata_2023-02.parquet"
   ]
  },
  {
   "cell_type": "code",
   "execution_count": 2,
   "id": "05267c21",
   "metadata": {},
   "outputs": [],
   "source": [
    "import seaborn as sns\n",
    "import matplotlib.pyplot as plt\n",
    "import pandas as pd\n",
    "# Set pandas display option to avoid scientific notation\n",
    "pd.set_option('display.float_format', '{:.2f}'.format)"
   ]
  },
  {
   "cell_type": "code",
   "execution_count": 3,
   "id": "a1cc65b8",
   "metadata": {},
   "outputs": [],
   "source": [
    "from sklearn.feature_extraction import DictVectorizer\n",
    "from sklearn.linear_model import LinearRegression\n",
    "from sklearn.metrics import mean_squared_error"
   ]
  },
  {
   "cell_type": "code",
   "execution_count": 3,
   "id": "b802e650",
   "metadata": {},
   "outputs": [],
   "source": [
    "def read_data(file):\n",
    "    \n",
    "    df = pd.read_parquet(file, engine = 'fastparquet')\n",
    "    \n",
    "    # computing duration\n",
    "    df['duration'] = df.tpep_dropoff_datetime - df.tpep_pickup_datetime\n",
    "    df.duration = df.duration.apply(lambda td: td.total_seconds() / 60)\n",
    "    \n",
    "    # getting standard deviation\n",
    "    print(df.duration.describe())\n",
    "    \n",
    "    # dropping outliers\n",
    "    df = df[(df.duration >=1) & (df.duration <= 60)]\n",
    "    \n",
    "    # cast pickup and dropoff ids into strings - otherwise it'll label-encode them\n",
    "    df[categorical] = df[categorical].astype(str)\n",
    "    \n",
    "    return df"
   ]
  },
  {
   "cell_type": "code",
   "execution_count": 4,
   "id": "1a9dcaac",
   "metadata": {},
   "outputs": [],
   "source": [
    "def read_data(file, categorical):\n",
    "    # Read the data from parquet file\n",
    "    df = pd.read_parquet(file, engine='fastparquet')\n",
    "    \n",
    "    # Ensure datetime columns are in correct format\n",
    "    df['tpep_pickup_datetime'] = pd.to_datetime(df['tpep_pickup_datetime'])\n",
    "    df['tpep_dropoff_datetime'] = pd.to_datetime(df['tpep_dropoff_datetime'])\n",
    "    \n",
    "    # Compute duration in minutes using vectorized operations\n",
    "    df['duration'] = (df['tpep_dropoff_datetime'] - df['tpep_pickup_datetime']).dt.total_seconds() / 60\n",
    "    \n",
    "    # Print the duration statistics\n",
    "    print(df['duration'].describe())\n",
    "    \n",
    "    # Dropping outliers by filtering duration between 1 and 60 minutes\n",
    "    print(((df.duration >= 1) & (df.duration <= 60)).mean())\n",
    "    df = df[(df['duration'] >= 1) & (df['duration'] <= 60)]\n",
    "    \n",
    "    # Cast categorical columns into strings\n",
    "    df[categorical] = df[categorical].astype(str)\n",
    "    \n",
    "    return df\n"
   ]
  },
  {
   "cell_type": "code",
   "execution_count": 5,
   "id": "a712c337",
   "metadata": {},
   "outputs": [
    {
     "name": "stdout",
     "output_type": "stream",
     "text": [
      "count   3066766.00\n",
      "mean         15.67\n",
      "std          42.59\n",
      "min         -29.20\n",
      "25%           7.12\n",
      "50%          11.52\n",
      "75%          18.30\n",
      "max       10029.18\n",
      "Name: duration, dtype: float64\n",
      "0.9812202822125979\n",
      "count   2913955.00\n",
      "mean         16.02\n",
      "std          42.84\n",
      "min         -43.62\n",
      "25%           7.25\n",
      "50%          11.80\n",
      "75%          18.77\n",
      "max        7053.62\n",
      "Name: duration, dtype: float64\n",
      "0.9800944077722545\n"
     ]
    }
   ],
   "source": [
    "categorical = ['PULocationID', 'DOLocationID']\n",
    "\n",
    "df_train = read_data('yellow_tripdata_2023-01.parquet', categorical)\n",
    "df_val = read_data('yellow_tripdata_2023-02.parquet', categorical)"
   ]
  },
  {
   "cell_type": "markdown",
   "id": "3f057669",
   "metadata": {},
   "source": [
    "## One Hot Encoding"
   ]
  },
  {
   "cell_type": "code",
   "execution_count": 6,
   "id": "a38f6397",
   "metadata": {},
   "outputs": [],
   "source": [
    "categorical = ['PULocationID', 'DOLocationID']\n",
    "numerical = ['trip_distance']\n",
    "\n",
    "# feature matrix\n",
    "dv = DictVectorizer()\n",
    "\n",
    "train_dicts = df_train[categorical + numerical].to_dict(orient='records')\n",
    "X_train = dv.fit_transform(train_dicts) # feature matrix - training input\n",
    "\n",
    "val_dicts = df_val[categorical + numerical].to_dict(orient='records')\n",
    "X_val = dv.transform(val_dicts) # feature matrix - validation input"
   ]
  },
  {
   "cell_type": "code",
   "execution_count": 24,
   "id": "3c6ba96e",
   "metadata": {},
   "outputs": [
    {
     "data": {
      "text/plain": [
       "(3009173, 516)"
      ]
     },
     "execution_count": 24,
     "metadata": {},
     "output_type": "execute_result"
    }
   ],
   "source": [
    "X_train.shape"
   ]
  },
  {
   "cell_type": "code",
   "execution_count": 7,
   "id": "cf4e47d9",
   "metadata": {},
   "outputs": [],
   "source": [
    "target = 'duration'\n",
    "\n",
    "y_train = df_train[target].values # target values for training data\n",
    "y_val = df_val[target].values # target values for validation data"
   ]
  },
  {
   "cell_type": "code",
   "execution_count": 8,
   "id": "a599f4cf",
   "metadata": {},
   "outputs": [
    {
     "data": {
      "text/plain": [
       "LinearRegression()"
      ]
     },
     "execution_count": 8,
     "metadata": {},
     "output_type": "execute_result"
    }
   ],
   "source": [
    "lr = LinearRegression()\n",
    "lr.fit(X_train, y_train)"
   ]
  },
  {
   "cell_type": "code",
   "execution_count": 9,
   "id": "ba8bd984",
   "metadata": {},
   "outputs": [
    {
     "data": {
      "text/plain": [
       "13.48793351650686"
      ]
     },
     "execution_count": 9,
     "metadata": {},
     "output_type": "execute_result"
    }
   ],
   "source": [
    "y_pred = lr.predict(X_val)\n",
    "mean_squared_error(y_val, y_pred, squared=False)"
   ]
  },
  {
   "cell_type": "code",
   "execution_count": null,
   "id": "76512b83",
   "metadata": {
    "scrolled": true
   },
   "outputs": [],
   "source": [
    "sns.distplot(y_train.iloc[:10], label='target')\n",
    "sns.distplot(y_pred.iloc[:10], label='prediction')\n",
    "\n",
    "plt.legend()"
   ]
  },
  {
   "cell_type": "code",
   "execution_count": 10,
   "id": "76f77004",
   "metadata": {},
   "outputs": [
    {
     "name": "stdout",
     "output_type": "stream",
     "text": [
      "Train RMSE: 7.649137552443737\n",
      "Validation RMSE: 13.48793351650686\n"
     ]
    }
   ],
   "source": [
    "y_pred_train = lr.predict(X_train)\n",
    "print('Train RMSE:', mean_squared_error(y_train, y_pred_train, squared=False))\n",
    "print('Validation RMSE:', mean_squared_error(y_val, y_pred, squared=False))"
   ]
  },
  {
   "cell_type": "code",
   "execution_count": 15,
   "id": "968e59b6",
   "metadata": {},
   "outputs": [
    {
     "data": {
      "image/png": "[encoded data removed]",
      "text/plain": [
       "<Figure size 576x432 with 1 Axes>"
      ]
     },
     "metadata": {
      "needs_background": "light"
     },
     "output_type": "display_data"
    }
   ],
   "source": [
    "plt.figure(figsize=(8, 6))\n",
    "\n",
    "# Plot actual vs predicted\n",
    "plt.scatter(y_val[:1000], y_pred[:1000], alpha=0.3, label='Predictions')\n",
    "\n",
    "# Add reference line (perfect prediction)\n",
    "# plt.plot([0, 60], [0, 60], color='red', linestyle='--', label='Ideal Fit')\n",
    "\n",
    "plt.xlabel('Actual Duration')\n",
    "plt.ylabel('Predicted Duration')\n",
    "plt.title('Actual vs Predicted Duration (Sampled)')\n",
    "plt.legend()\n",
    "plt.show()"
   ]
  },
  {
   "cell_type": "code",
   "execution_count": 23,
   "id": "755b1d34",
   "metadata": {},
   "outputs": [
    {
     "name": "stderr",
     "output_type": "stream",
     "text": [
      "/home/vagrant/anaconda3/lib/python3.9/site-packages/seaborn/distributions.py:2619: FutureWarning: `distplot` is a deprecated function and will be removed in a future version. Please adapt your code to use either `displot` (a figure-level function with similar flexibility) or `histplot` (an axes-level function for histograms).\n",
      "  warnings.warn(msg, FutureWarning)\n",
      "/home/vagrant/anaconda3/lib/python3.9/site-packages/seaborn/distributions.py:2619: FutureWarning: `distplot` is a deprecated function and will be removed in a future version. Please adapt your code to use either `displot` (a figure-level function with similar flexibility) or `histplot` (an axes-level function for histograms).\n",
      "  warnings.warn(msg, FutureWarning)\n"
     ]
    },
    {
     "data": {
      "text/plain": [
       "<matplotlib.legend.Legend at 0x7efd28894730>"
      ]
     },
     "execution_count": 23,
     "metadata": {},
     "output_type": "execute_result"
    },
    {
     "data": {
      "image/png": "[encoded data removed]",
      "text/plain": [
       "<Figure size 432x288 with 1 Axes>"
      ]
     },
     "metadata": {
      "needs_background": "light"
     },
     "output_type": "display_data"
    }
   ],
   "source": [
    "import seaborn as sns\n",
    "\n",
    "sns.distplot(y_val, label='Actual')\n",
    "sns.distplot(y_pred, label='Predicted')\n",
    "\n",
    "plt.legend()"
   ]
  },
  {
   "cell_type": "code",
   "execution_count": 19,
   "id": "c21389cd",
   "metadata": {},
   "outputs": [
    {
     "data": {
      "image/png": "[encoded data removed]",
      "text/plain": [
       "<Figure size 720x432 with 1 Axes>"
      ]
     },
     "metadata": {
      "needs_background": "light"
     },
     "output_type": "display_data"
    }
   ],
   "source": [
    "residuals = y_val - y_pred\n",
    "\n",
    "plt.figure(figsize=(10, 6))\n",
    "plt.hist(residuals, bins=50, color='purple', alpha=0.7)\n",
    "plt.axvline(0, color='red', linestyle='--')  # line at 0 error\n",
    "plt.xlabel('Prediction Error (Actual - Predicted)')\n",
    "plt.ylabel('Frequency')\n",
    "plt.title('Distribution of Prediction Errors (Residuals)')\n",
    "plt.show()\n"
   ]
  }
 ],
 "metadata": {
  "kernelspec": {
   "display_name": "Python 3 (ipykernel)",
   "language": "python",
   "name": "python3"
  },
  "language_info": {
   "codemirror_mode": {
    "name": "ipython",
    "version": 3
   },
   "file_extension": ".py",
   "mimetype": "text/x-python",
   "name": "python",
   "nbconvert_exporter": "python",
   "pygments_lexer": "ipython3",
   "version": "3.9.12"
  }
 },
 "nbformat": 4,
 "nbformat_minor": 5
}
